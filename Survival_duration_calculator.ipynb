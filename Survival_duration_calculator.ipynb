{
  "nbformat": 4,
  "nbformat_minor": 0,
  "metadata": {
    "colab": {
      "provenance": [],
      "authorship_tag": "ABX9TyPE2+S519psxVMc2sLB+WHm",
      "include_colab_link": true
    },
    "kernelspec": {
      "name": "python3",
      "display_name": "Python 3"
    },
    "language_info": {
      "name": "python"
    }
  },
  "cells": [
    {
      "cell_type": "markdown",
      "metadata": {
        "id": "view-in-github",
        "colab_type": "text"
      },
      "source": [
        "<a href=\"https://colab.research.google.com/github/prajwal-mv/Survival_duration_calculator/blob/main/Survival_duration_calculator.ipynb\" target=\"_parent\"><img src=\"https://colab.research.google.com/assets/colab-badge.svg\" alt=\"Open In Colab\"/></a>"
      ]
    },
    {
      "cell_type": "code",
      "source": [
        "class Survival_duration_Calculator:\n",
        "    def __init__(self, age):\n",
        "        self.age = age\n",
        "\n",
        "    #logic to calculate_months\n",
        "    def calculate_months(self):\n",
        "        return self.age * 12\n",
        "\n",
        "\n",
        "    #logic to calculate_weeks\n",
        "    def calculate_weeks(self):\n",
        "        # Approximation: 52 weeks in a year\n",
        "        return self.age * 52\n",
        "\n",
        "\n",
        "    #logic to calculate_days\n",
        "    def calculate_days(self):\n",
        "        # Approximation: 365 days in a year\n",
        "        return self.age * 365\n",
        "\n",
        "    #logic to calculate_hours\n",
        "    def calculate_hours(self):\n",
        "        # Approximation: 24 hours in a day\n",
        "        return self.age * 365 * 24\n",
        "\n",
        "\n",
        "    #logic to calculate_minutes\n",
        "    def calculate_minutes(self):\n",
        "        # Approximation: 60 minutes in an hour\n",
        "        return self.age * 365 * 24 * 60\n",
        "\n",
        "\n",
        "    #logic to calculate_minute\n",
        "    def calculate_seconds(self):\n",
        "        # Approximation: 60 seconds in a minute\n",
        "        return self.age * 365 * 24 * 60 * 60\n"
      ],
      "metadata": {
        "id": "Go3o_Voy8bjU"
      },
      "execution_count": 10,
      "outputs": []
    },
    {
      "cell_type": "code",
      "source": [
        "\n",
        "#SDC -- Survival_duration_calculator\n",
        "def SDC():\n",
        "    age = int(input(\"Kindly enter your current age!! \"))\n",
        "    unit = input(\"Please choose time unit: Months, Weeks, Days, Hours, Minutes, Seconds. \").strip().lower()\n",
        "\n",
        "    calculator = Survival_duration_Calculator(age)\n",
        "\n",
        "    if unit.startswith('mon'):  # 'mon' stans be 'months'\n",
        "        duration = calculator.calculate_months()\n",
        "    elif unit.startswith('w'):  # 'w' stands for 'weeks'\n",
        "        duration = calculator.calculate_weeks()\n",
        "    elif unit.startswith('d'):  # 'd' stands for 'days'\n",
        "        duration = calculator.calculate_days()\n",
        "    elif unit.startswith('h'):  # 'h' stands for 'hours'\n",
        "        duration = calculator.calculate_hours()\n",
        "    elif unit.startswith('min'):  # 'min' stands for 'minutes'\n",
        "        duration = calculator.calculate_minutes()\n",
        "    elif unit.startswith('s'):  # 's' stands for 'seconds'\n",
        "        duration = calculator.calculate_seconds()\n",
        "    else:\n",
        "        print(\"Kindly enter proper time unit. Please try again.\")\n",
        "        return\n",
        "\n",
        "    print(f\"You lived for {duration} {unit.capitalize()}\")\n",
        "\n",
        "if __name__ == \"__main__\":\n",
        "    SDC()\n"
      ],
      "metadata": {
        "colab": {
          "base_uri": "https://localhost:8080/"
        },
        "id": "z2cvpQt38tC6",
        "outputId": "3216d094-6b3d-487b-e0a5-c711caf2fbaa"
      },
      "execution_count": 18,
      "outputs": [
        {
          "output_type": "stream",
          "name": "stdout",
          "text": [
            "Kindly enter your current age!! 28\n",
            "Please choose time unit: Months, Weeks, Days, Hours, Minutes, Seconds. min\n",
            "You lived for 14716800 Min\n"
          ]
        }
      ]
    }
  ]
}